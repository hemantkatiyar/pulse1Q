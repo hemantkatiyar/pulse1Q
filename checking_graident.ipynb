{
 "cells": [
  {
   "cell_type": "code",
   "execution_count": 1,
   "metadata": {},
   "outputs": [],
   "source": [
    "import numpy as np\n",
    "import grape as utils\n",
    "from scipy.linalg import expm\n",
    "import matplotlib.pyplot as plt\n",
    "import copy\n",
    "from scipy.optimize import minimize\n",
    "from scipy.optimize import Bounds"
   ]
  },
  {
   "cell_type": "code",
   "execution_count": 4,
   "metadata": {},
   "outputs": [
    {
     "name": "stdout",
     "output_type": "stream",
     "text": [
      "4711.4299901977765\n",
      "Optimization terminated successfully.\n",
      "         Current function value: -0.000000\n",
      "         Iterations: 27\n",
      "         Function evaluations: 95\n",
      "         Gradient evaluations: 91\n"
     ]
    },
    {
     "data": {
      "text/plain": [
       "  message: Optimization terminated successfully.\n",
       "  success: True\n",
       "   status: 0\n",
       "      fun: -4.440892098500626e-12\n",
       "        x: [ 1.329e-01 -1.783e-01 ...  3.916e-01 -1.067e-01]\n",
       "      nit: 27\n",
       "      jac: [-3.331e-19 -2.220e-19 ...  2.020e-17  2.051e-17]\n",
       " hess_inv: [[ 2.409e+00  1.405e+00 ... -4.391e-02 -5.164e-02]\n",
       "            [ 1.405e+00  2.402e+00 ... -1.723e-02 -2.461e-02]\n",
       "            ...\n",
       "            [-4.391e-02 -1.723e-02 ...  1.385e+01  1.297e+01]\n",
       "            [-5.164e-02 -2.461e-02 ...  1.297e+01  1.409e+01]]\n",
       "     nfev: 95\n",
       "     njev: 91"
      ]
     },
     "execution_count": 4,
     "metadata": {},
     "output_type": "execute_result"
    }
   ],
   "source": [
    "nions=1\n",
    "max_amp = 2 * np.pi * 25e3  \n",
    "sx,sy,sz, ssx, ssy, ssz, Had = utils.get_spinops(nions,1/300)\n",
    "utarg = expm(-1j * (np.pi / 2 ) * sx[0] / 2) \n",
    "\n",
    "tau = 40e-6\n",
    "nsegments = 200\n",
    "del_t = tau/nsegments \n",
    "x0 = np.random.rand(nsegments*2);\n",
    "# x0 = result.x\n",
    "# x2 = np.load('x120s_optimized.npy'); \n",
    "# x0 = utils.smooth_pulse(x2,60,2)\n",
    "# x0 = np.load('x30s_optimized.npy'); \n",
    "# x0 = np.asarray([-2.94650661e-01,  8.18969715e-01, -8.72864686e-01, -6.51449500e-01,\n",
    "#         1.00000000e+00,  1.00000000e+00,  1.00000000e+00, -3.05380167e-06,\n",
    "#        -1.00000000e+00, -1.00000000e+00]) # for no rfi, 5, 12e-6, fun 1.6681861447764845e-07\n",
    "# x1 = np.repeat(x2,10)\n",
    "# x0 = utils.smooth_pulse(x1,50,2)\n",
    "\n",
    "# rfi=[1]+np.linspace(0,1/300,5).tolist()\n",
    "rfi=[1]\n",
    "# rfi=[1.01,1,0.99]\n",
    "print(utils.calc_fidelity6_ct(x0, nsegments, rfi, ssx, ssy, utarg, del_t, nions, max_amp))\n",
    "bnd = Bounds(lb=-np.ones(nsegments*2),ub=np.ones(nsegments*2))\n",
    "result = minimize(utils.calc_fidelity6_ct,\n",
    "         x0=x0,\n",
    "         jac=utils.calc_grad2,\n",
    "         args = (nsegments, rfi, ssx, ssy, utarg, del_t, nions, max_amp),\n",
    "         method='L-BFGS-B ',\n",
    "         options={'disp':True, 'gtol':1e-16 },\n",
    "        )\n",
    "result"
   ]
  },
  {
   "cell_type": "code",
   "execution_count": 5,
   "metadata": {},
   "outputs": [
    {
     "name": "stdout",
     "output_type": "stream",
     "text": [
      "0.0\n",
      "0.0344269677088338\n"
     ]
    }
   ],
   "source": [
    "print(utils.calc_fidelity5(result.x , nsegments, np.asarray([[1,1]]) , ssx, ssy, utarg, del_t, nions, max_amp))\n",
    "print(utils.calc_fidelity5(result.x*1/300 , nsegments, np.asarray([[1,1]]) , ssx, ssy, np.eye(2), del_t, nions, max_amp))\n"
   ]
  },
  {
   "cell_type": "code",
   "execution_count": 14,
   "metadata": {},
   "outputs": [
    {
     "name": "stdout",
     "output_type": "stream",
     "text": [
      "running for 1\n",
      "[1.0, 6.802721088435374e-05, 0.00013605442176870748]\n",
      "         Current function value: 0.000024\n",
      "         Iterations: 0\n",
      "         Function evaluations: 46\n",
      "         Gradient evaluations: 34\n"
     ]
    },
    {
     "name": "stderr",
     "output_type": "stream",
     "text": [
      "/Users/katiyar/opt/anaconda3/envs/oneQgate/lib/python3.12/site-packages/scipy/optimize/_minimize.py:705: OptimizeWarning: Desired error not necessarily achieved due to precision loss.\n",
      "  res = _minimize_bfgs(fun, x0, args, jac, callback, **options)\n"
     ]
    }
   ],
   "source": [
    "nions=1\n",
    "max_amp = 2 * np.pi * 25e3  \n",
    "sx,sy,sz, ssx, ssy, ssz, Had = utils.get_spinops(nions,1/300)\n",
    "utarg = expm(-1j * (np.pi / 2 ) * sx[0] / 2)\n",
    "rffull = np.linspace(0,1/300,50); rffull[0]=1\n",
    "\n",
    "nsegments = 120\n",
    "del_t = 0.25e-6\n",
    "\n",
    "numrfi_add = 2\n",
    "for j in range(1,10):\n",
    "        if j==1:\n",
    "                # x0 = np.load('x120s_optimized.npy') \n",
    "                x0 = result.x \n",
    "        else:\n",
    "                x0 = result.x\n",
    "                \n",
    "        rfi=rffull[0:numrfi_add*j+1].tolist()\n",
    "        print(f\"running for {j}\")\n",
    "        print(rfi)\n",
    "        result = minimize(utils.calc_fidelity6_ct,\n",
    "         x0=x0,\n",
    "         jac=utils.calc_grad2,\n",
    "         args = (nsegments, rfi, ssx, ssy, utarg, del_t, nions, max_amp),\n",
    "         method='BFGS',\n",
    "         options={'disp':True, 'gtol':1e-9},\n",
    "        )\n",
    "        result"
   ]
  },
  {
   "cell_type": "code",
   "execution_count": 35,
   "metadata": {},
   "outputs": [
    {
     "name": "stdout",
     "output_type": "stream",
     "text": [
      "2.220446049250313e-12\n",
      "0.002052226979465388\n"
     ]
    }
   ],
   "source": [
    "# one point optimization\n",
    "print(utils.calc_fidelity6_ct(result.x, nsegments, [1], ssx, ssy, utarg, del_t, nions, max_amp))\n",
    "print(utils.calc_fidelity6_ct(result.x, nsegments, [1/300], ssx, ssy, utarg, del_t, nions, max_amp))\n"
   ]
  },
  {
   "cell_type": "code",
   "execution_count": 51,
   "metadata": {},
   "outputs": [
    {
     "name": "stdout",
     "output_type": "stream",
     "text": [
      "2.1122336556955723\n",
      "0.7895345174480095\n"
     ]
    }
   ],
   "source": [
    "# two point optimization\n",
    "print(utils.calc_fidelity6_ct(result.x, nsegments, [1], ssx, ssy, utarg, del_t, nions, max_amp))\n",
    "print(utils.calc_fidelity6_ct(result.x, nsegments, [1/300], ssx, ssy, utarg, del_t, nions, max_amp))"
   ]
  },
  {
   "cell_type": "code",
   "execution_count": 16,
   "metadata": {},
   "outputs": [
    {
     "name": "stdout",
     "output_type": "stream",
     "text": [
      "0.13166070319314827\n"
     ]
    }
   ],
   "source": [
    "xx = np.load('x120s_optimized.npy')\n",
    "print(utils.calc_fidelity6_ct(xx, nsegments, [1/300], ssx, ssy, utarg, del_t, nions, max_amp))\n"
   ]
  }
 ],
 "metadata": {
  "kernelspec": {
   "display_name": "oneQgate",
   "language": "python",
   "name": "python3"
  },
  "language_info": {
   "codemirror_mode": {
    "name": "ipython",
    "version": 3
   },
   "file_extension": ".py",
   "mimetype": "text/x-python",
   "name": "python",
   "nbconvert_exporter": "python",
   "pygments_lexer": "ipython3",
   "version": "3.12.0"
  }
 },
 "nbformat": 4,
 "nbformat_minor": 2
}
