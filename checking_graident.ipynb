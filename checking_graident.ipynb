{
 "cells": [
  {
   "cell_type": "code",
   "execution_count": 1,
   "metadata": {},
   "outputs": [],
   "source": [
    "import numpy as np\n",
    "import grape as utils\n",
    "from scipy.linalg import expm\n",
    "import matplotlib.pyplot as plt\n",
    "import copy\n",
    "from scipy.optimize import minimize\n",
    "from scipy.optimize import Bounds"
   ]
  },
  {
   "cell_type": "code",
   "execution_count": 15,
   "metadata": {},
   "outputs": [
    {
     "data": {
      "text/plain": [
       "array([-2.94650661e-01, -2.94650661e-01,  8.18969715e-01,  8.18969715e-01,\n",
       "       -8.72864686e-01, -8.72864686e-01, -6.51449500e-01, -6.51449500e-01,\n",
       "        1.00000000e+00,  1.00000000e+00,  1.00000000e+00,  1.00000000e+00,\n",
       "        1.00000000e+00,  1.00000000e+00, -3.05380167e-06, -3.05380167e-06,\n",
       "       -1.00000000e+00, -1.00000000e+00, -1.00000000e+00, -1.00000000e+00])"
      ]
     },
     "execution_count": 15,
     "metadata": {},
     "output_type": "execute_result"
    }
   ],
   "source": [
    "np.repeat(x2,2)"
   ]
  },
  {
   "cell_type": "code",
   "execution_count": 23,
   "metadata": {},
   "outputs": [
    {
     "name": "stdout",
     "output_type": "stream",
     "text": [
      "0.2591750824576522\n",
      "         Current function value: 0.000243\n",
      "         Iterations: 10\n",
      "         Function evaluations: 117\n",
      "         Gradient evaluations: 105\n"
     ]
    },
    {
     "name": "stderr",
     "output_type": "stream",
     "text": [
      "/Users/katiyar/opt/anaconda3/envs/oneQgate/lib/python3.12/site-packages/scipy/optimize/_minimize.py:705: OptimizeWarning: Desired error not necessarily achieved due to precision loss.\n",
      "  res = _minimize_bfgs(fun, x0, args, jac, callback, **options)\n"
     ]
    },
    {
     "data": {
      "text/plain": [
       "  message: Desired error not necessarily achieved due to precision loss.\n",
       "  success: False\n",
       "   status: 2\n",
       "      fun: 0.00024261684661297522\n",
       "        x: [-3.075e-01 -3.079e-01 ... -9.911e-01 -9.915e-01]\n",
       "      nit: 10\n",
       "      jac: [ 2.482e-08  2.165e-08 ...  2.919e-08  2.895e-08]\n",
       " hess_inv: [[ 1.712e+02  1.728e+02 ... -6.583e+01 -6.669e+01]\n",
       "            [ 1.728e+02  1.766e+02 ... -6.829e+01 -6.897e+01]\n",
       "            ...\n",
       "            [-6.583e+01 -6.829e+01 ...  4.866e+01  4.508e+01]\n",
       "            [-6.669e+01 -6.897e+01 ...  4.508e+01  4.388e+01]]\n",
       "     nfev: 117\n",
       "     njev: 105"
      ]
     },
     "execution_count": 23,
     "metadata": {},
     "output_type": "execute_result"
    }
   ],
   "source": [
    "nions=1\n",
    "max_amp = 2 * np.pi * 25e3  \n",
    "sx,sy,sz, ssx, ssy, ssz, Had = utils.get_spinops(nions,1/300)\n",
    "utarg = expm(-1j * (np.pi / 2 ) * sx[0] / 2) \n",
    "\n",
    "nsegments = 5 * 20\n",
    "del_t = 12e-6 / 20\n",
    "x0 = np.random.rand(nsegments*2);\n",
    "# x2 = np.load('x120s_optimized.npy'); \n",
    "# x0 = utils.smooth_pulse(x2,60,2)\n",
    "# x0 = np.load('x30s_optimized.npy'); \n",
    "x2 = np.asarray([-2.94650661e-01,  8.18969715e-01, -8.72864686e-01, -6.51449500e-01,\n",
    "        1.00000000e+00,  1.00000000e+00,  1.00000000e+00, -3.05380167e-06,\n",
    "       -1.00000000e+00, -1.00000000e+00]) # for no rfi, 5, 12e-6, fun 1.6681861447764845e-07\n",
    "x1 = np.repeat(x2,10)\n",
    "x0 = utils.smooth_pulse(x1,50,2)\n",
    "\n",
    "rfi=[1]+np.linspace(0,1/300,5).tolist()\n",
    "# rfi=[1]\n",
    "print(utils.calc_fidelity6_ct(x0, nsegments, rfi, ssx, ssy, utarg, del_t, nions, max_amp))\n",
    "result = minimize(utils.calc_fidelity6_ct,\n",
    "         x0=x0,\n",
    "         jac=utils.calc_grad2,\n",
    "         args = (nsegments, rfi, ssx, ssy, utarg, del_t, nions, max_amp),\n",
    "         method='BFGS',\n",
    "         options={'disp':True, 'gtol':1e-20 },\n",
    "        )\n",
    "result"
   ]
  },
  {
   "cell_type": "code",
   "execution_count": 25,
   "metadata": {},
   "outputs": [
    {
     "data": {
      "text/plain": [
       "[<matplotlib.lines.Line2D at 0x14fa0d970>]"
      ]
     },
     "execution_count": 25,
     "metadata": {},
     "output_type": "execute_result"
    },
    {
     "data": {
      "image/png": "[encoded data removed]",
      "text/plain": [
       "<Figure size 640x480 with 1 Axes>"
      ]
     },
     "metadata": {},
     "output_type": "display_data"
    }
   ],
   "source": [
    "plt.plot(result.x)"
   ]
  },
  {
   "cell_type": "code",
   "execution_count": 24,
   "metadata": {},
   "outputs": [
    {
     "name": "stdout",
     "output_type": "stream",
     "text": [
      "0.004785838966236966\n",
      "9.49792355875445e-06\n"
     ]
    }
   ],
   "source": [
    "print(utils.calc_fidelity5(result.x , nsegments, np.asarray([[1,1]]) , ssx, ssy, utarg, del_t, nions, max_amp))\n",
    "print(utils.calc_fidelity5(result.x*1/300 , nsegments, np.asarray([[1,1]]) , ssx, ssy, np.eye(2), del_t, nions, max_amp))\n"
   ]
  },
  {
   "cell_type": "code",
   "execution_count": 14,
   "metadata": {},
   "outputs": [
    {
     "name": "stdout",
     "output_type": "stream",
     "text": [
      "running for 1\n",
      "[1.0, 6.802721088435374e-05, 0.00013605442176870748]\n",
      "         Current function value: 0.000024\n",
      "         Iterations: 0\n",
      "         Function evaluations: 46\n",
      "         Gradient evaluations: 34\n"
     ]
    },
    {
     "name": "stderr",
     "output_type": "stream",
     "text": [
      "/Users/katiyar/opt/anaconda3/envs/oneQgate/lib/python3.12/site-packages/scipy/optimize/_minimize.py:705: OptimizeWarning: Desired error not necessarily achieved due to precision loss.\n",
      "  res = _minimize_bfgs(fun, x0, args, jac, callback, **options)\n"
     ]
    }
   ],
   "source": [
    "nions=1\n",
    "max_amp = 2 * np.pi * 25e3  \n",
    "sx,sy,sz, ssx, ssy, ssz, Had = utils.get_spinops(nions,1/300)\n",
    "utarg = expm(-1j * (np.pi / 2 ) * sx[0] / 2)\n",
    "rffull = np.linspace(0,1/300,50); rffull[0]=1\n",
    "\n",
    "nsegments = 120\n",
    "del_t = 0.25e-6\n",
    "\n",
    "numrfi_add = 2\n",
    "for j in range(1,2):\n",
    "        if j==1:\n",
    "                x0 = np.load('x120s_optimized.npy'); \n",
    "        else:\n",
    "                x0 = result.x\n",
    "                \n",
    "        rfi=rffull[0:numrfi_add*j+1].tolist()\n",
    "        print(f\"running for {j}\")\n",
    "        print(rfi)\n",
    "        result = minimize(utils.calc_fidelity6_ct,\n",
    "         x0=x0,\n",
    "         jac=utils.calc_grad2,\n",
    "         args = (nsegments, rfi, ssx, ssy, utarg, del_t, nions, max_amp),\n",
    "         method='BFGS',\n",
    "         options={'disp':True, 'gtol':1e-9},\n",
    "        )\n",
    "        result"
   ]
  },
  {
   "cell_type": "code",
   "execution_count": 35,
   "metadata": {},
   "outputs": [
    {
     "name": "stdout",
     "output_type": "stream",
     "text": [
      "2.220446049250313e-12\n",
      "0.002052226979465388\n"
     ]
    }
   ],
   "source": [
    "# one point optimization\n",
    "print(utils.calc_fidelity6_ct(result.x, nsegments, [1], ssx, ssy, utarg, del_t, nions, max_amp))\n",
    "print(utils.calc_fidelity6_ct(result.x, nsegments, [1/300], ssx, ssy, utarg, del_t, nions, max_amp))\n"
   ]
  },
  {
   "cell_type": "code",
   "execution_count": 51,
   "metadata": {},
   "outputs": [
    {
     "name": "stdout",
     "output_type": "stream",
     "text": [
      "2.1122336556955723\n",
      "0.7895345174480095\n"
     ]
    }
   ],
   "source": [
    "# two point optimization\n",
    "print(utils.calc_fidelity6_ct(result.x, nsegments, [1], ssx, ssy, utarg, del_t, nions, max_amp))\n",
    "print(utils.calc_fidelity6_ct(result.x, nsegments, [1/300], ssx, ssy, utarg, del_t, nions, max_amp))"
   ]
  },
  {
   "cell_type": "code",
   "execution_count": 16,
   "metadata": {},
   "outputs": [
    {
     "name": "stdout",
     "output_type": "stream",
     "text": [
      "0.13166070319314827\n"
     ]
    }
   ],
   "source": [
    "xx = np.load('x120s_optimized.npy')\n",
    "print(utils.calc_fidelity6_ct(xx, nsegments, [1/300], ssx, ssy, utarg, del_t, nions, max_amp))\n"
   ]
  }
 ],
 "metadata": {
  "kernelspec": {
   "display_name": "oneQgate",
   "language": "python",
   "name": "python3"
  },
  "language_info": {
   "codemirror_mode": {
    "name": "ipython",
    "version": 3
   },
   "file_extension": ".py",
   "mimetype": "text/x-python",
   "name": "python",
   "nbconvert_exporter": "python",
   "pygments_lexer": "ipython3",
   "version": "3.12.0"
  }
 },
 "nbformat": 4,
 "nbformat_minor": 2
}
